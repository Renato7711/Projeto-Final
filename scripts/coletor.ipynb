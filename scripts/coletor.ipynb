{
 "cells": [
  {
   "cell_type": "markdown",
   "metadata": {},
   "source": [
    "# Projeto: Web Scraping com Selenium - Parte 2\n",
    "### 1ª Etapa: Coleta de Dados\n",
    "\n",
    "#### Site: Dados Abertos do Governo Federal.\n",
    "Dados da arrecadação de impostos e contribuições federais por Estado."
   ]
  },
  {
   "cell_type": "code",
   "execution_count": 1,
   "metadata": {},
   "outputs": [],
   "source": [
    "#Importando bibliotecas\n",
    "\n",
    "from selenium import webdriver\n",
    "from selenium.webdriver.common.by import By\n",
    "from selenium.webdriver.support.ui import WebDriverWait\n",
    "from selenium.webdriver.support import expected_conditions as EC\n",
    "import pandas as pd\n",
    "import os\n",
    "from selenium.webdriver.chrome.options import Options\n",
    "import time\n"
   ]
  },
  {
   "cell_type": "code",
   "execution_count": 2,
   "metadata": {},
   "outputs": [],
   "source": [
    "#Caminhos da pasta do projeto\n",
    "pasta_originais = os.path.abspath(os.path.join(\"..\", \"basesoriginais\"))"
   ]
  },
  {
   "cell_type": "code",
   "execution_count": 3,
   "metadata": {},
   "outputs": [],
   "source": [
    "#Configuração do Chrome para realizar o download na pasta do projeto\n",
    "chrome_options = Options()\n",
    "chrome_options.add_experimental_option(\"prefs\", {\n",
    "    \"download.default_directory\": pasta_originais,  # Diretório de download\n",
    "    \"download.prompt_for_download\": False,          # Evita a janela de confirmação de download\n",
    "    \"download.directory_upgrade\": True,\n",
    "    \"safebrowsing.enabled\": True,\n",
    "    \"profile.default_content_settings.popups\": 0\n",
    "})"
   ]
  },
  {
   "cell_type": "code",
   "execution_count": 4,
   "metadata": {},
   "outputs": [],
   "source": [
    "#Escolhendo e abrindo o navegador\n",
    "navegador = webdriver.Chrome(options=chrome_options)"
   ]
  },
  {
   "cell_type": "code",
   "execution_count": 5,
   "metadata": {},
   "outputs": [],
   "source": [
    "#Abrindo o site no navegador\n",
    "navegador.get('https://dados.gov.br/dados/conjuntos-dados/resultado-da-arrecadacao')\n",
    "time.sleep(10)"
   ]
  },
  {
   "cell_type": "code",
   "execution_count": 6,
   "metadata": {},
   "outputs": [],
   "source": [
    "#Navegando até a base de dados\n",
    "navegador.find_element(By.XPATH, '/html/body/div/section/div/div[3]/div[2]/div[3]/div[2]/header').click()\n",
    "time.sleep(10)"
   ]
  },
  {
   "cell_type": "code",
   "execution_count": 7,
   "metadata": {},
   "outputs": [],
   "source": [
    "#Fazendo o downloads\n",
    "navegador.find_element(By.XPATH, '/html/body/div/section/div/div[3]/div[2]/div[3]/div[2]/div/div[2]/div[2]/div[2]/div/button[1]').click()"
   ]
  }
 ],
 "metadata": {
  "kernelspec": {
   "display_name": "base",
   "language": "python",
   "name": "python3"
  },
  "language_info": {
   "codemirror_mode": {
    "name": "ipython",
    "version": 3
   },
   "file_extension": ".py",
   "mimetype": "text/x-python",
   "name": "python",
   "nbconvert_exporter": "python",
   "pygments_lexer": "ipython3",
   "version": "3.9.13"
  }
 },
 "nbformat": 4,
 "nbformat_minor": 2
}
